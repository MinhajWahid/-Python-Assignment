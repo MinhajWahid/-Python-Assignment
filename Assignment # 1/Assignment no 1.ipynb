{
 "cells": [
  {
   "cell_type": "code",
   "execution_count": 1,
   "metadata": {},
   "outputs": [
    {
     "name": "stdout",
     "output_type": "stream",
     "text": [
      "Twinkle, twinkle, little star,\n",
      " \tHow I wonder what you are! \n",
      "\t \tUp above the world so high,\n",
      " \t \tLike a diamond in the sky. \n",
      "Twinkle, twinkle, little star,\n",
      " \tHow I wonder what you are! \n",
      "3.8.5 (default, Sep  3 2020, 21:29:08) [MSC v.1916 64 bit (AMD64)]\n",
      "2022-01-01 00:40:41.444126\n",
      "Enter the radius5\n",
      "78.53981633974483\n",
      "Enter Your First Nameminhaj\n",
      "Enter Your Last NameWahid\n",
      "jahnim dihaW\n",
      "Enter First3\n",
      "Enter Second2\n",
      "5\n"
     ]
    }
   ],
   "source": [
    "# Assignment # 1\n",
    "\n",
    "# problem # 1\n",
    "print(\"Twinkle, twinkle, little star,\")\n",
    "print(\" \\tHow I wonder what you are! \")\n",
    "print(\"\\t \\tUp above the world so high,\\n \\t \\tLike a diamond in the sky. \")\n",
    "print(\"Twinkle, twinkle, little star,\")\n",
    "print(\" \\tHow I wonder what you are! \")\n",
    "\n",
    "# Problem # 2\n",
    "import sys\n",
    "print(sys.version)\n",
    "\n",
    "# Problem # 3\n",
    "from datetime import datetime\n",
    "print(datetime.now())\n",
    "\n",
    "#Problem # 4\n",
    "import math\n",
    "radius = int(input(\"Enter the radius\"))\n",
    "cal = math.pi * radius**2\n",
    "print(cal)\n",
    "\n",
    "#Problem # 5\n",
    "first_name = str(input(\"Enter Your First Name\"))\n",
    "last_name = str(input(\"Enter Your Last Name\"))\n",
    "first_reverse = first_name[::-1]\n",
    "last_reverse =  last_name[::-1]\n",
    "print(first_reverse, last_reverse)\n",
    "\n",
    "#Proble # 6\n",
    "a = int(input(\"Enter First\"))\n",
    "b = int(input(\"Enter Second\"))\n",
    "t = a + b\n",
    "print(t)\n",
    "\n"
   ]
  },
  {
   "cell_type": "code",
   "execution_count": null,
   "metadata": {},
   "outputs": [],
   "source": []
  }
 ],
 "metadata": {
  "kernelspec": {
   "display_name": "Python 3",
   "language": "python",
   "name": "python3"
  },
  "language_info": {
   "codemirror_mode": {
    "name": "ipython",
    "version": 3
   },
   "file_extension": ".py",
   "mimetype": "text/x-python",
   "name": "python",
   "nbconvert_exporter": "python",
   "pygments_lexer": "ipython3",
   "version": "3.8.5"
  }
 },
 "nbformat": 4,
 "nbformat_minor": 4
}
